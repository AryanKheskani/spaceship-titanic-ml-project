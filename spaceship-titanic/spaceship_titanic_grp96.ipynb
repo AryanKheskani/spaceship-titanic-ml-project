{
 "cells": [
  {
   "cell_type": "markdown",
   "metadata": {},
   "source": [
    "<H1><b>GROUP 96: SPACESHIP TITANIC"
   ]
  },
  {
   "cell_type": "markdown",
   "metadata": {},
   "source": [
    "<h3>Project by: Aryan Kheskani, Aryan Rajput, Gaelle Nehme, Gonzalo Lantero, Lama Abboud\n"
   ]
  },
  {
   "cell_type": "code",
   "execution_count": 2,
   "metadata": {},
   "outputs": [],
   "source": [
    "import pandas as pd\n",
    "import numpy as np \n",
    "import matplotlib.pyplot as plt\n",
    "import seaborn as sns\n"
   ]
  },
  {
   "cell_type": "code",
   "execution_count": 16,
   "metadata": {},
   "outputs": [],
   "source": [
    "train_data = pd.read_csv('train.csv')\n",
    "test_data = pd.read_csv('test.csv')"
   ]
  },
  {
   "cell_type": "code",
   "execution_count": 17,
   "metadata": {},
   "outputs": [
    {
     "data": {
      "text/plain": [
       "PassengerId     0.000000\n",
       "HomePlanet      2.312205\n",
       "CryoSleep       2.496261\n",
       "Cabin           2.289198\n",
       "Destination     2.093639\n",
       "Age             2.059128\n",
       "VIP             2.335212\n",
       "RoomService     2.082135\n",
       "FoodCourt       2.105142\n",
       "ShoppingMall    2.392730\n",
       "Spa             2.105142\n",
       "VRDeck          2.162660\n",
       "Name            2.300702\n",
       "Transported     0.000000\n",
       "dtype: float64"
      ]
     },
     "execution_count": 17,
     "metadata": {},
     "output_type": "execute_result"
    }
   ],
   "source": [
    "missing_values = train_data.isnull().sum() / len(train_data) * 100\n",
    "missing_values "
   ]
  },
  {
   "cell_type": "markdown",
   "metadata": {},
   "source": [
    "<h1>How does applying Principal Component Analysis (PCA) to the dataset affect model performance, and what is the trade-off between the number of principal components retained and the model’s predictive accuracy?\n"
   ]
  },
  {
   "cell_type": "code",
   "execution_count": null,
   "metadata": {},
   "outputs": [],
   "source": [
    "train_data.drop(['PassengerId', 'Name', 'Cabin'], axis=1, inplace=True)"
   ]
  },
  {
   "cell_type": "code",
   "execution_count": null,
   "metadata": {},
   "outputs": [
    {
     "name": "stdout",
     "output_type": "stream",
     "text": [
      "\n",
      "Dataset after encoding categorical variables:\n",
      "   HomePlanet  CryoSleep  Destination   Age    VIP  RoomService  FoodCourt  \\\n",
      "0           1      False            2  39.0  False          0.0        0.0   \n",
      "1           0      False            2  24.0  False        109.0        9.0   \n",
      "2           1      False            2  58.0   True         43.0     3576.0   \n",
      "3           1      False            2  33.0  False          0.0     1283.0   \n",
      "4           0      False            2  16.0  False        303.0       70.0   \n",
      "\n",
      "   ShoppingMall     Spa  VRDeck  \n",
      "0           0.0     0.0     0.0  \n",
      "1          25.0   549.0    44.0  \n",
      "2           0.0  6715.0    49.0  \n",
      "3         371.0  3329.0   193.0  \n",
      "4         151.0   565.0     2.0  \n",
      "\n",
      "Shape of training data: (6954, 10)\n",
      "Shape of test data: (1739, 10)\n"
     ]
    }
   ],
   "source": [
    "from sklearn.preprocessing import LabelEncoder\n",
    "from sklearn.model_selection import train_test_split\n",
    "from sklearn.preprocessing import StandardScaler\n",
    "\n",
    "# Handle missing values - Fill numerical columns with median, categorical with mode\n",
    "# for col in train_data.columns:\n",
    "#     if train_data[col].dtype == 'object':  # Categorical columns\n",
    "#         train_data[col].fillna(train_data[col].mode()[0], inplace=True)\n",
    "#     else:  # Numerical columns\n",
    "#         train_data[col].fillna(train_data[col].median(), inplace=True)\n",
    "\n",
    "# # Print dataset after missing value handling\n",
    "# print(\"\\nDataset after handling missing values:\")\n",
    "# print(train_data.head())\n",
    "\n",
    "# Encode categorical variables\n",
    "encoder = LabelEncoder()\n",
    "for col in train_data.select_dtypes(include=['object']).columns:\n",
    "    train_data[col] = encoder.fit_transform(train_data[col])\n",
    "\n",
    "# Define features (X) and target (y)\n",
    "X = train_data.drop(columns=['Transported'])  # Features\n",
    "y = train_data['Transported'].astype(int)  # Target (1 = Transported, 0 = Not Transported)\n",
    "\n",
    "# Print dataset after encoding\n",
    "print(\"\\nDataset after encoding categorical variables:\")\n",
    "print(X.head())\n"
   ]
  },
  {
   "cell_type": "code",
   "execution_count": null,
   "metadata": {},
   "outputs": [
    {
     "name": "stdout",
     "output_type": "stream",
     "text": [
      "\n",
      "Shape of training data: (6954, 10)\n",
      "Shape of test data: (1739, 10)\n"
     ]
    }
   ],
   "source": [
    "# Split dataset into train & test sets (80/20 split)\n",
    "X_train, X_test, y_train, y_test = train_test_split(X, y, test_size=0.2, random_state=42, stratify=y)\n",
    "\n",
    "# Standardize features for PCA\n",
    "scaler = StandardScaler() # the scalar object is used to scale the data so that the data has mean = 0 and variance = 1\n",
    "X_train_scaled = scaler.fit_transform(X_train)\n",
    "X_test_scaled = scaler.transform(X_test)\n",
    "\n",
    "# Print shape of training and test sets\n",
    "print(\"\\nShape of training data:\", X_train.shape)\n",
    "print(\"Shape of test data:\", X_test.shape)"
   ]
  },
  {
   "cell_type": "code",
   "execution_count": 23,
   "metadata": {},
   "outputs": [
    {
     "name": "stdout",
     "output_type": "stream",
     "text": [
      "\n",
      "Explained Variance Ratio:\n",
      "[0.18117465 0.3140219  0.42983511 0.52532941 0.61908589 0.71101522\n",
      " 0.79440275 0.87618668 0.95200604 1.        ]\n"
     ]
    }
   ],
   "source": [
    "from sklearn.decomposition import PCA\n",
    "pca = PCA()\n",
    "X_train_pca = pca.fit_transform(X_train_scaled)\n",
    "X_test_pca = pca.transform(X_test_scaled)\n",
    "\n",
    "explained_variance_ratio = np.cumsum(pca.explained_variance_ratio_)\n",
    "\n",
    "print(\"\\nExplained Variance Ratio:\")\n",
    "print(explained_variance_ratio)"
   ]
  },
  {
   "cell_type": "code",
   "execution_count": 24,
   "metadata": {},
   "outputs": [
    {
     "data": {
      "image/png": "[encoded data removed]",
      "text/plain": [
       "<Figure size 1000x600 with 1 Axes>"
      ]
     },
     "metadata": {},
     "output_type": "display_data"
    }
   ],
   "source": [
    "# Plot cumulative explained variance to determine optimal number of components\n",
    "plt.figure(figsize=(10, 6))\n",
    "plt.plot(range(1, len(explained_variance_ratio) + 1), explained_variance_ratio, marker='o', linestyle='--')\n",
    "plt.axhline(y=0.95, color='r', linestyle='--', label='95% Variance Threshold')\n",
    "plt.xlabel(\"Number of Principal Components\")\n",
    "plt.ylabel(\"Cumulative Explained Variance\")\n",
    "plt.title(\"PCA - Explained Variance vs Number of Components\")\n",
    "plt.legend()\n",
    "plt.show()\n"
   ]
  },
  {
   "cell_type": "code",
   "execution_count": 25,
   "metadata": {},
   "outputs": [
    {
     "name": "stdout",
     "output_type": "stream",
     "text": [
      "\n",
      "Optimal number of components to retain 95% variance: 9\n"
     ]
    }
   ],
   "source": [
    "n_components = np.argmax(explained_variance_ratio >= 0.95) + 1\n",
    "print(f\"\\nOptimal number of components to retain 95% variance: {n_components}\")"
   ]
  },
  {
   "cell_type": "code",
   "execution_count": 29,
   "metadata": {},
   "outputs": [
    {
     "name": "stdout",
     "output_type": "stream",
     "text": [
      "\n",
      "Model Performance Comparison:\n",
      "            Accuracy   ROC AUC  F1 Score\n",
      "Before PCA  0.780909  0.780969  0.780403\n",
      "After PCA   0.776308  0.776334  0.776822\n"
     ]
    }
   ],
   "source": [
    "from sklearn.ensemble import RandomForestClassifier\n",
    "from sklearn.metrics import accuracy_score, roc_auc_score, f1_score\n",
    "\n",
    "# Apply PCA with optimal components\n",
    "pca_optimal = PCA(n_components=n_components)\n",
    "X_train_pca_optimal = pca_optimal.fit_transform(X_train_scaled)\n",
    "X_test_pca_optimal = pca_optimal.transform(X_test_scaled)\n",
    "\n",
    "# Train a Random Forest Classifier before and after PCA\n",
    "rf_before = RandomForestClassifier(n_estimators=100, random_state=42)\n",
    "rf_before.fit(X_train, y_train)\n",
    "\n",
    "rf_after = RandomForestClassifier(n_estimators=100, random_state=42)\n",
    "rf_after.fit(X_train_pca_optimal, y_train)\n",
    "\n",
    "# Predictions\n",
    "y_pred_before = rf_before.predict(X_test)\n",
    "y_pred_after = rf_after.predict(X_test_pca_optimal)\n",
    "\n",
    "# Evaluate model performance\n",
    "metrics = {\n",
    "    \"Accuracy\": [accuracy_score(y_test, y_pred_before), accuracy_score(y_test, y_pred_after)],\n",
    "    \"ROC AUC\": [roc_auc_score(y_test, y_pred_before), roc_auc_score(y_test, y_pred_after)],\n",
    "    \"F1 Score\": [f1_score(y_test, y_pred_before), f1_score(y_test, y_pred_after)]\n",
    "}\n",
    "\n",
    "# Convert to DataFrame\n",
    "metrics_df = pd.DataFrame(metrics, index=[\"Before PCA\", \"After PCA\"])\n",
    "\n",
    "# Print performance metrics\n",
    "print(\"\\nModel Performance Comparison:\")\n",
    "print(metrics_df)"
   ]
  }
 ],
 "metadata": {
  "kernelspec": {
   "display_name": "Python 3",
   "language": "python",
   "name": "python3"
  },
  "language_info": {
   "codemirror_mode": {
    "name": "ipython",
    "version": 3
   },
   "file_extension": ".py",
   "mimetype": "text/x-python",
   "name": "python",
   "nbconvert_exporter": "python",
   "pygments_lexer": "ipython3",
   "version": "3.13.0"
  }
 },
 "nbformat": 4,
 "nbformat_minor": 2
}
